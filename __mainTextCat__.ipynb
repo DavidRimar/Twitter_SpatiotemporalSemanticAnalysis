{
 "cells": [
  {
   "cell_type": "code",
   "execution_count": 1,
   "source": [
    "import spacy\r\n",
    "import seaborn as sns\r\n",
    "import matplotlib.pyplot as plt\r\n",
    "import pandas as pd\r\n",
    "from sqlalchemy import create_engine\r\n",
    "from TweetCrawler import *\r\n",
    "from config import *\r\n",
    "from models.ModelBristol import *\r\n",
    "from SpacyTextClassifier import *\r\n",
    "from DataLoader import *\r\n",
    "\r\n",
    "#### GET DATA ####\r\n",
    "tweetCrawler = TweetCrawler(DATABASE_URI_RDS_TWEETS)\r\n",
    "bristol_tweets_df = tweetCrawler.crawl_data_with_session(\r\n",
    "    Bristol_Set2_TextClassifier)\r\n",
    "\r\n",
    "#### TRAIN AND TEST DATA ####\r\n",
    "# instantiate spacyTextClassifier instance\r\n",
    "spacyTextClassifier = SpacyTextClassifier('simple_cnn')\r\n",
    "\r\n",
    "# prepare_training_data()\r\n",
    "train_data = spacyTextClassifier.prepare_training_data(bristol_tweets_df)\r\n",
    "\r\n",
    "# train_and_evaluate()\r\n",
    "spacyTextClassifier.train_model_and_evaluate(train_data, 10)\r\n",
    "\r\n",
    "#### APPLY MODEL ON UNSEEN TWEETS ####\r\n",
    "\"\"\"\r\n",
    "test_text_1 = \"The police is struggling to contain the protest as people continue to march.\"\r\n",
    "test_text_2 = \"This is the biggest headache of the police in March\"\r\n",
    "test_text_3 = \"The #KilltheBill rally marches through #Manchester, thankfully with very little Police presence so far, just at the back. Hoping @gmpolice have observed from Bristol exactly what not to do.\"\r\n",
    "text_text_4 = \"Evidence of Journalist at the receiving end of police violence in Bristol. Such indiscriminate violence against protestors creates an inter group dynamic. This is NOT one sided\"\r\n",
    "text_text_5 = \"I just wanna say thanks to @metpoliceuk Kingston today for not resorting to violence like @ASPolice have done recently. It’s nice to know you’re capable of the bare minimum restraint. #KillTheBill also make sure your officers are wearing PPE properly when talking to public.\"\r\n",
    "text_list = [test_text_1, test_text_2, test_text_3, text_text_4, text_text_5]\r\n",
    "\r\n",
    "spacyTextClassifier.test_model(text_list)\r\n",
    "\"\"\"\r\n",
    "print(\"Model training completed!\")\r\n",
    "\r\n",
    "print(\"Classification results loaded to DB!\")\r\n",
    "#classified_tweets_df = spacyTextClassifier.classify_unseen_tweets(\r\n",
    "#    bristol_tweets_df)\r\n",
    "\r\n",
    "### LOAD RESULTS TO DB ###\r\n",
    "#dataLoader = DataLoader(DATABASE_URI_RDS_TWEETS)\r\n",
    "\r\n",
    "#dataLoader.update_all(classified_tweets_df, Bristol_Set2_TextClassifier)\r\n"
   ],
   "outputs": [
    {
     "output_type": "stream",
     "name": "stdout",
     "text": [
      "Query ALL works!\n",
      "Query successful!\n"
     ]
    },
    {
     "output_type": "stream",
     "name": "stderr",
     "text": [
      "c:\\WEB DEVELOPMENT\\PROJECTS\\Twitter_TFIDF\\Twitter_TFIDF\\SpacyTextClassifier.py:81: SettingWithCopyWarning: \n",
      "A value is trying to be set on a copy of a slice from a DataFrame\n",
      "\n",
      "See the caveats in the documentation: https://pandas.pydata.org/pandas-docs/stable/user_guide/indexing.html#returning-a-view-versus-a-copy\n",
      "  raw_dataset_df.label[raw_dataset_df.tweet_score <= 1] = 0\n",
      "c:\\WEB DEVELOPMENT\\PROJECTS\\Twitter_TFIDF\\Twitter_TFIDF\\SpacyTextClassifier.py:82: SettingWithCopyWarning: \n",
      "A value is trying to be set on a copy of a slice from a DataFrame\n",
      "\n",
      "See the caveats in the documentation: https://pandas.pydata.org/pandas-docs/stable/user_guide/indexing.html#returning-a-view-versus-a-copy\n",
      "  raw_dataset_df.label[raw_dataset_df.tweet_score >= 4] = 1\n"
     ]
    },
    {
     "output_type": "stream",
     "name": "stdout",
     "text": [
      "shape of training data:  (5000, 11)\n",
      "Training the model...\n",
      "LOSS \t  P  \t  R  \t  F  \n",
      "6.583\t0.949\t0.949\t0.949\n",
      "2.047\t0.948\t0.948\t0.948\n",
      "1.219\t0.951\t0.951\t0.951\n",
      "0.796\t0.947\t0.947\t0.947\n",
      "0.650\t0.945\t0.945\t0.945\n",
      "0.398\t0.952\t0.952\t0.952\n",
      "0.332\t0.950\t0.950\t0.950\n",
      "0.315\t0.953\t0.953\t0.953\n",
      "0.225\t0.953\t0.953\t0.953\n",
      "0.168\t0.947\t0.947\t0.947\n",
      "Model training completed!\n",
      "Classification results loaded to DB!\n"
     ]
    }
   ],
   "metadata": {}
  }
 ],
 "metadata": {
  "orig_nbformat": 4,
  "language_info": {
   "name": "python",
   "version": "3.8.5",
   "mimetype": "text/x-python",
   "codemirror_mode": {
    "name": "ipython",
    "version": 3
   },
   "pygments_lexer": "ipython3",
   "nbconvert_exporter": "python",
   "file_extension": ".py"
  },
  "kernelspec": {
   "name": "python3",
   "display_name": "Python 3.8.5 64-bit"
  },
  "interpreter": {
   "hash": "5c0372ed38b372118c24adb00d45654d76c8d10261533c5724e3f5fc1d75489a"
  }
 },
 "nbformat": 4,
 "nbformat_minor": 2
}